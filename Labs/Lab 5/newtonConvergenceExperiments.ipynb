{
 "cells": [
  {
   "cell_type": "code",
   "execution_count": 33,
   "metadata": {},
   "outputs": [
    {
     "ename": "ImportError",
     "evalue": "cannot import name 'bisectionNewtonHybrid' from 'solvers' (/Users/user/numerical-analysis-methods-scientific-computing/solvers.py)",
     "output_type": "error",
     "traceback": [
      "\u001b[0;31m---------------------------------------------------------------------------\u001b[0m",
      "\u001b[0;31mImportError\u001b[0m                               Traceback (most recent call last)",
      "Cell \u001b[0;32mIn[33], line 2\u001b[0m\n\u001b[1;32m      1\u001b[0m \u001b[38;5;28;01mfrom\u001b[39;00m \u001b[38;5;21;01mvisualization\u001b[39;00m \u001b[38;5;28;01mimport\u001b[39;00m \u001b[38;5;241m*\u001b[39m\n\u001b[0;32m----> 2\u001b[0m \u001b[38;5;28;01mfrom\u001b[39;00m \u001b[38;5;21;01msolvers\u001b[39;00m \u001b[38;5;28;01mimport\u001b[39;00m bisectionNewtonHybrid\n\u001b[1;32m      4\u001b[0m fncs \u001b[38;5;241m=\u001b[39m [{\u001b[38;5;241m0\u001b[39m:\u001b[38;5;28;01mlambda\u001b[39;00m x: \u001b[38;5;241m-\u001b[39m(x\u001b[38;5;241m-\u001b[39m\u001b[38;5;241m1\u001b[39m)\u001b[38;5;241m*\u001b[39m\u001b[38;5;241m*\u001b[39m\u001b[38;5;241m3\u001b[39m, \u001b[38;5;241m1\u001b[39m:\u001b[38;5;28;01mlambda\u001b[39;00m x: \u001b[38;5;241m-\u001b[39m\u001b[38;5;241m3\u001b[39m\u001b[38;5;241m*\u001b[39m(x\u001b[38;5;241m-\u001b[39m\u001b[38;5;241m1\u001b[39m)}]\n\u001b[1;32m      6\u001b[0m \u001b[38;5;28;01mfor\u001b[39;00m f \u001b[38;5;129;01min\u001b[39;00m fncs:\n",
      "\u001b[0;31mImportError\u001b[0m: cannot import name 'bisectionNewtonHybrid' from 'solvers' (/Users/user/numerical-analysis-methods-scientific-computing/solvers.py)"
     ]
    }
   ],
   "source": [
    "from visualization import *\n",
    "from solvers import bisectionNewtonHybrid\n",
    "\n",
    "fncs = [{0:lambda x: -(x-1)**3, 1:lambda x: -3*(x-1)}]\n",
    "\n",
    "for f in fncs:\n",
    "\n",
    "    print(lambdaToString(f[0]))\n",
    "\n",
    "    #[p,pstar,info,it] = newton(f[0],f[1],4,1e-10,Nmax=100)\n",
    "\n",
    "    a = -1\n",
    "    b = 6\n",
    "    [p,pstar,ier] = bisectionNewtonHybrid(f,a,b,tol=1e-5,Nmax=1000);\n",
    "\n",
    "    printFloatVec(p)\n",
    "\n",
    "\n",
    "\n",
    "\n",
    "\n"
   ]
  },
  {
   "cell_type": "code",
   "execution_count": null,
   "metadata": {},
   "outputs": [],
   "source": []
  }
 ],
 "metadata": {
  "kernelspec": {
   "display_name": "Python 3",
   "language": "python",
   "name": "python3"
  },
  "language_info": {
   "codemirror_mode": {
    "name": "ipython",
    "version": 3
   },
   "file_extension": ".py",
   "mimetype": "text/x-python",
   "name": "python",
   "nbconvert_exporter": "python",
   "pygments_lexer": "ipython3",
   "version": "3.9.6"
  }
 },
 "nbformat": 4,
 "nbformat_minor": 2
}
