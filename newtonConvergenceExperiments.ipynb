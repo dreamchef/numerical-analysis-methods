{
 "cells": [
  {
   "cell_type": "code",
   "execution_count": 52,
   "metadata": {},
   "outputs": [
    {
     "name": "stdout",
     "output_type": "stream",
     "text": [
      "f(x) = lambda x: (x-1)**3, 1:lambda x: 3*(x-1)}]\n"
     ]
    },
    {
     "ename": "OverflowError",
     "evalue": "(34, 'Result too large')",
     "output_type": "error",
     "traceback": [
      "\u001b[0;31m---------------------------------------------------------------------------\u001b[0m",
      "\u001b[0;31mOverflowError\u001b[0m                             Traceback (most recent call last)",
      "Cell \u001b[0;32mIn[52], line 10\u001b[0m\n\u001b[1;32m      6\u001b[0m \u001b[38;5;28;01mfor\u001b[39;00m f \u001b[38;5;129;01min\u001b[39;00m fncs:\n\u001b[1;32m      8\u001b[0m     \u001b[38;5;28mprint\u001b[39m(lambdaToString(f[\u001b[38;5;241m0\u001b[39m]))\n\u001b[0;32m---> 10\u001b[0m     [p,pstar,info,it] \u001b[38;5;241m=\u001b[39m \u001b[43mnewton\u001b[49m\u001b[43m(\u001b[49m\u001b[43mf\u001b[49m\u001b[43m[\u001b[49m\u001b[38;5;241;43m0\u001b[39;49m\u001b[43m]\u001b[49m\u001b[43m,\u001b[49m\u001b[43mf\u001b[49m\u001b[43m[\u001b[49m\u001b[38;5;241;43m1\u001b[39;49m\u001b[43m]\u001b[49m\u001b[43m,\u001b[49m\u001b[38;5;241;43m0.9\u001b[39;49m\u001b[43m,\u001b[49m\u001b[38;5;241;43m1e-10\u001b[39;49m\u001b[43m,\u001b[49m\u001b[43mNmax\u001b[49m\u001b[38;5;241;43m=\u001b[39;49m\u001b[38;5;241;43m100\u001b[39;49m\u001b[43m)\u001b[49m\n\u001b[1;32m     12\u001b[0m     printFloatVec(p)\n",
      "File \u001b[0;32m~/numerical-analysis-methods-scientific-computing/solvers.py:220\u001b[0m, in \u001b[0;36mnewton\u001b[0;34m(f, fp, p0, tol, Nmax)\u001b[0m\n\u001b[1;32m    218\u001b[0m p[\u001b[38;5;241m0\u001b[39m] \u001b[38;5;241m=\u001b[39m p0\n\u001b[1;32m    219\u001b[0m \u001b[38;5;28;01mfor\u001b[39;00m it \u001b[38;5;129;01min\u001b[39;00m \u001b[38;5;28mrange\u001b[39m(Nmax):\n\u001b[0;32m--> 220\u001b[0m     p1 \u001b[38;5;241m=\u001b[39m p0\u001b[38;5;241m-\u001b[39m\u001b[43mf\u001b[49m\u001b[43m(\u001b[49m\u001b[43mp0\u001b[49m\u001b[43m)\u001b[49m\u001b[38;5;241m/\u001b[39mfp(p0)\n\u001b[1;32m    221\u001b[0m     p[it\u001b[38;5;241m+\u001b[39m\u001b[38;5;241m1\u001b[39m] \u001b[38;5;241m=\u001b[39m p1\n\u001b[1;32m    222\u001b[0m     \u001b[38;5;28;01mif\u001b[39;00m (\u001b[38;5;28mabs\u001b[39m(p1\u001b[38;5;241m-\u001b[39mp0) \u001b[38;5;241m<\u001b[39m tol):\n",
      "Cell \u001b[0;32mIn[52], line 4\u001b[0m, in \u001b[0;36m<lambda>\u001b[0;34m(x)\u001b[0m\n\u001b[1;32m      1\u001b[0m \u001b[38;5;28;01mfrom\u001b[39;00m \u001b[38;5;21;01msolvers\u001b[39;00m \u001b[38;5;28;01mimport\u001b[39;00m \u001b[38;5;241m*\u001b[39m\n\u001b[1;32m      2\u001b[0m \u001b[38;5;28;01mfrom\u001b[39;00m \u001b[38;5;21;01mvisualization\u001b[39;00m \u001b[38;5;28;01mimport\u001b[39;00m \u001b[38;5;241m*\u001b[39m\n\u001b[0;32m----> 4\u001b[0m fncs \u001b[38;5;241m=\u001b[39m [{\u001b[38;5;241m0\u001b[39m:\u001b[38;5;28;01mlambda\u001b[39;00m x: (x\u001b[38;5;241m-\u001b[39m\u001b[38;5;241m1\u001b[39m)\u001b[38;5;241m*\u001b[39m\u001b[38;5;241m*\u001b[39m\u001b[38;5;241m3\u001b[39m, \u001b[38;5;241m1\u001b[39m:\u001b[38;5;28;01mlambda\u001b[39;00m x: \u001b[38;5;241m3\u001b[39m\u001b[38;5;241m*\u001b[39m(x\u001b[38;5;241m-\u001b[39m\u001b[38;5;241m1\u001b[39m)}]\n\u001b[1;32m      6\u001b[0m \u001b[38;5;28;01mfor\u001b[39;00m f \u001b[38;5;129;01min\u001b[39;00m fncs:\n\u001b[1;32m      8\u001b[0m     \u001b[38;5;28mprint\u001b[39m(lambdaToString(f[\u001b[38;5;241m0\u001b[39m]))\n",
      "\u001b[0;31mOverflowError\u001b[0m: (34, 'Result too large')"
     ]
    }
   ],
   "source": [
    "from solvers import *\n",
    "from visualization import *\n",
    "\n",
    "fncs = [{0:lambda x: (x-1)**3, 1:lambda x: 3*(x-1)}]\n",
    "\n",
    "for f in fncs:\n",
    "\n",
    "    print(lambdaToString(f[0]))\n",
    "\n",
    "    [p,pstar,info,it] = newton(f[0],f[1],1.2,1e-10,Nmax=100)\n",
    "\n",
    "    printFloatVec(p)\n",
    "\n",
    "\n",
    "\n",
    "\n",
    "\n"
   ]
  },
  {
   "cell_type": "code",
   "execution_count": null,
   "metadata": {},
   "outputs": [],
   "source": []
  }
 ],
 "metadata": {
  "kernelspec": {
   "display_name": "Python 3",
   "language": "python",
   "name": "python3"
  },
  "language_info": {
   "codemirror_mode": {
    "name": "ipython",
    "version": 3
   },
   "file_extension": ".py",
   "mimetype": "text/x-python",
   "name": "python",
   "nbconvert_exporter": "python",
   "pygments_lexer": "ipython3",
   "version": "3.9.6"
  }
 },
 "nbformat": 4,
 "nbformat_minor": 2
}
